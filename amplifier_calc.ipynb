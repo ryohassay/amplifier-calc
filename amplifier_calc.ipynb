{
 "cells": [
  {
   "attachments": {},
   "cell_type": "markdown",
   "metadata": {},
   "source": [
    "# Amplifier Design\n",
    "\n",
    "We are going to calculate the resistor values for the mid-band amplifier shown below.\n",
    "\n",
    "![Amplifier Circuit Diagram](circuit.jpg)\n",
    "\n",
    "Parameters: \n",
    "$ V_\\mathrm{CC} = 15  \\ \\mathrm{V},\\quad R_\\mathrm{S} = 8 \\ \\mathrm{k\\Omega},\\quad R_L= 300 \\ \\mathrm{\\Omega} $\n",
    "\n",
    "All the capacitances: $20 \\mathrm{\\mu F}$\n",
    "\n",
    "Transistor parameters of Q1 and Q2: \n",
    "$ V_\\mathrm{BE} = 0.7 \\ \\mathrm{V},\\quad  \\beta = 150,\\quad V_\\mathrm{A} = 65 \\ \\mathrm{V} $\n",
    "\n",
    "Transistor parameters of M3: \n",
    "$ K_\\mathrm{n} = 5 \\ \\mathrm{mA/V^2},\\quad V_\\mathrm{TN} = -2 \\ \\mathrm{V},\\quad λ=0.01 \\ \\mathrm{V^{−1}} $"
   ]
  },
  {
   "cell_type": "code",
   "execution_count": null,
   "metadata": {},
   "outputs": [],
   "source": [
    "import sympy as sym\n",
    "from IPython.display import display\n",
    "sym.init_printing()"
   ]
  },
  {
   "cell_type": "code",
   "execution_count": null,
   "metadata": {},
   "outputs": [],
   "source": [
    "# Variable\n",
    "v_S = sym.Symbol('v_S')\n",
    "\n",
    "# Values to decide\n",
    "R_11, R_12, R_21, R_22, R_31, R_32 = sym.symbols('R_11, R_12, R_21, R_22, R_31, R_32', positive=True)\n",
    "R_C1, R_E1, R_C2, R_E2, R_S3 = sym.symbols('R_C1, R_E1, R_C2, R_E2, R_S3', positive=True)\n",
    "\n",
    "# Value to calculate\n",
    "I_D = sym.symbols('I_D')\n",
    "\n",
    "# Constants\n",
    "V_CC, R_S, R_L, V_BE, beta, V_A, V_T, K_n, V_TN, lambda_ = sym.symbols('V_CC, R_S, R_L, V_BE, \\\\beta, V_A, V_T, K_n, V_TN, \\lambda')"
   ]
  },
  {
   "cell_type": "code",
   "execution_count": null,
   "metadata": {},
   "outputs": [],
   "source": [
    "# Design specifications\n",
    "V_CC = 15  # [V]\n",
    "R_S = 8 * (10 ** 3)  # [Ohm]\n",
    "R_L = 300  # [Ohm]\n",
    "\n",
    "# Q1 and Q2\n",
    "V_BE = 0.7  # [V]\n",
    "beta = 150 \n",
    "V_A = 65  # [V]\n",
    "V_T = 26 * (10 ** -3)  # [V]\n",
    "\n",
    "# M3\n",
    "K_n = 5 * (10 ** -3)  # [A/V^2] \n",
    "V_TN = -2  #[V]\n",
    "lambda_ = 0.01  # [V^−1]"
   ]
  },
  {
   "attachments": {},
   "cell_type": "markdown",
   "metadata": {},
   "source": [
    "# Designs\n",
    "Manipulate these values."
   ]
  },
  {
   "cell_type": "code",
   "execution_count": null,
   "metadata": {},
   "outputs": [],
   "source": [
    "R_11 = 100 * (10 ** 3)  # Ohm\n",
    "R_12 = 100 * (10 ** 3)  # Ohm\n",
    "R_C1 = 5 * (10 ** 3)  # Ohm\n",
    "R_E1 = 5 * (10 ** 3)  # Ohm\n",
    "\n",
    "R_21 = 100 * (10 ** 3)  # Ohm\n",
    "R_22 = 100 * (10 ** 3)  # Ohm\n",
    "R_C2 = 5 * (10 ** 3)  # Ohm\n",
    "R_E2 = 5 * (10 ** 3)  # Ohm\n",
    "\n",
    "R_31 = 100 * (10 ** 3)  # Ohm\n",
    "R_32 = 700 * (10 ** 3)  # Ohm\n",
    "R_S3 = 1 * (10 ** 3)  # Ohm"
   ]
  },
  {
   "cell_type": "code",
   "execution_count": null,
   "metadata": {},
   "outputs": [],
   "source": [
    "def par(*resistances: int):\n",
    "    '''\n",
    "    Calculates the total resistance of parallel resistors.\n",
    "    '''\n",
    "    total_recip = 0\n",
    "    for res in resistances:\n",
    "        recip = 1 / res\n",
    "        total_recip = sym.Add(total_recip, recip)\n",
    "    return 1 / total_recip\n"
   ]
  },
  {
   "cell_type": "markdown",
   "metadata": {},
   "source": [
    "# DC Analysis"
   ]
  },
  {
   "cell_type": "markdown",
   "metadata": {},
   "source": [
    "## Q1"
   ]
  },
  {
   "cell_type": "code",
   "execution_count": null,
   "metadata": {},
   "outputs": [],
   "source": [
    "R_Th1 = par(R_11, R_12)\n",
    "V_Th1 = R_12 / (R_11 + R_12) * V_CC\n",
    "\n",
    "R_Th1, V_Th1"
   ]
  },
  {
   "cell_type": "code",
   "execution_count": null,
   "metadata": {},
   "outputs": [],
   "source": [
    "I_B1 = (V_Th1 - V_BE) / (R_Th1 + (beta + 1) * R_E1)\n",
    "r_pi1 = V_T / I_B1\n",
    "\n",
    "g_m1 = beta * I_B1 / V_T\n",
    "\n",
    "r_01 = V_A / (beta * I_B1)\n",
    "\n",
    "r_pi1, g_m1, r_01"
   ]
  },
  {
   "attachments": {},
   "cell_type": "markdown",
   "metadata": {},
   "source": [
    "## Q2"
   ]
  },
  {
   "cell_type": "code",
   "execution_count": null,
   "metadata": {},
   "outputs": [],
   "source": [
    "R_Th2 = par(R_21, R_22)\n",
    "V_Th2 = R_22 / (R_21 + R_22) * V_CC\n",
    "\n",
    "R_Th2, V_Th2"
   ]
  },
  {
   "cell_type": "code",
   "execution_count": null,
   "metadata": {},
   "outputs": [],
   "source": [
    "I_B2 = (V_Th2 - V_BE) / (R_Th2 + (beta + 1) * R_E2)\n",
    "r_pi2 = V_T / I_B2\n",
    "\n",
    "g_m2 = beta * I_B2 / V_T\n",
    "\n",
    "r_02 = V_A / (beta * I_B2)\n",
    "\n",
    "r_pi2, g_m2, r_02"
   ]
  },
  {
   "attachments": {},
   "cell_type": "markdown",
   "metadata": {},
   "source": [
    "## M3"
   ]
  },
  {
   "cell_type": "code",
   "execution_count": null,
   "metadata": {},
   "outputs": [],
   "source": [
    "V_G = R_32 / (R_31 + R_32) * V_CC\n",
    "V_GS = V_G - I_D * R_S3"
   ]
  },
  {
   "attachments": {},
   "cell_type": "markdown",
   "metadata": {},
   "source": [
    "Calculation of $I_D$ depends on resistor values."
   ]
  },
  {
   "cell_type": "code",
   "execution_count": null,
   "metadata": {},
   "outputs": [],
   "source": [
    "eq_M3 = I_D - K_n * (V_GS - V_TN) ** 2  # I_D = K_n * (V_GS - V_TN) ** 2\n",
    "\n",
    "I_D_ = sym.solve(eq_M3, I_D)\n",
    "\n",
    "I_D_"
   ]
  },
  {
   "cell_type": "code",
   "execution_count": null,
   "metadata": {},
   "outputs": [],
   "source": [
    "V_GS_ = []\n",
    "for i in I_D_:\n",
    "    V_GS_.append(V_G - i * R_S3)\n",
    "\n",
    "V_GS_"
   ]
  },
  {
   "cell_type": "code",
   "execution_count": null,
   "metadata": {},
   "outputs": [],
   "source": [
    "comparators = []\n",
    "\n",
    "for j in V_GS_:\n",
    "    comparators.append(sym.GreaterThan(j, V_TN))\n",
    "\n",
    "print(comparators)\n",
    "\n",
    "which = comparators.index(True)\n",
    "I_D = I_D_[which]\n",
    "V_GS = V_GS_[which]\n",
    "\n",
    "I_D, V_GS"
   ]
  },
  {
   "cell_type": "code",
   "execution_count": null,
   "metadata": {},
   "outputs": [],
   "source": [
    "g_m3 = 2 * K_n * (V_GS - V_TN)\n",
    "r_03 = 1 / (lambda_ * I_D)\n",
    "\n",
    "g_m3, r_03"
   ]
  },
  {
   "attachments": {},
   "cell_type": "markdown",
   "metadata": {},
   "source": [
    "# Small Signal Equivalent Circuit\n",
    "\n",
    "![Small Signal Equivalent Circuit](ac_circuit.jpg)"
   ]
  },
  {
   "attachments": {},
   "cell_type": "markdown",
   "metadata": {},
   "source": [
    "## Q1"
   ]
  },
  {
   "cell_type": "code",
   "execution_count": null,
   "metadata": {},
   "outputs": [],
   "source": [
    "v_pi1 = par(R_11, R_12, r_pi1) / (par(R_11, R_12, r_pi1) + R_S) * v_S\n",
    "v_pi2 = - par(r_01, R_C1, R_21, R_22, r_pi2) * g_m1 * v_pi1\n",
    "A_v1 = v_pi2 / v_S\n",
    "\n",
    "A_v1, v_pi2 / v_pi1"
   ]
  },
  {
   "attachments": {},
   "cell_type": "markdown",
   "metadata": {},
   "source": [
    "## Q2"
   ]
  },
  {
   "cell_type": "code",
   "execution_count": null,
   "metadata": {},
   "outputs": [],
   "source": [
    "v_g = - par(r_02, R_C2, R_31, R_32) * g_m2 * v_pi2\n",
    "A_v2 = v_g / v_pi2\n",
    "\n",
    "A_v2"
   ]
  },
  {
   "attachments": {},
   "cell_type": "markdown",
   "metadata": {},
   "source": [
    "## M3"
   ]
  },
  {
   "cell_type": "code",
   "execution_count": null,
   "metadata": {},
   "outputs": [],
   "source": [
    "v_s = sym.symbols('v_s')\n",
    "eq_ac3 = v_s - par(r_03, R_S3, R_L) * g_m3 * (v_g - v_s)\n",
    "v_s = sym.solve(eq_ac3, v_s)\n",
    "\n",
    "if len(v_s) == 1:\n",
    "    v_s = v_s[0]\n",
    "    A_v3 = v_s / v_g\n",
    "    display(A_v3)\n",
    "else:\n",
    "    print('The values of v_s are '), v_s"
   ]
  },
  {
   "cell_type": "code",
   "execution_count": null,
   "metadata": {},
   "outputs": [],
   "source": [
    "A_v = A_v1 * A_v2 * A_v3\n",
    "\n",
    "A_v, v_s / v_S"
   ]
  },
  {
   "cell_type": "code",
   "execution_count": null,
   "metadata": {},
   "outputs": [],
   "source": [
    "eq_g1 = A_v1 + 4\n",
    "eq_g2 = A_v2 + 4\n",
    "eq_g3 = A_v3 - 0.8\n",
    "\n"
   ]
  },
  {
   "attachments": {},
   "cell_type": "markdown",
   "metadata": {},
   "source": [
    "# LTSpice"
   ]
  },
  {
   "attachments": {},
   "cell_type": "markdown",
   "metadata": {},
   "source": [
    "Calculating $V_{BE}$"
   ]
  },
  {
   "cell_type": "code",
   "execution_count": null,
   "metadata": {},
   "outputs": [],
   "source": [
    "k = 1.38 * 10 ** -23  # (Boltzmann constant)\n",
    "T = 293  # (temperature in Kelvin)\n",
    "q = 1.60 * 10 ** -19  # (electron charge)\n",
    "\n",
    "I_E1 = (beta + 1) * I_B1\n",
    "I_S1 = I_E1 * (sym.exp(-q * V_BE/(k * T)))\n",
    "I_E2 = (beta + 1) * I_B2\n",
    "I_S2 = I_E2 * (sym.exp(-q * V_BE/(k * T)))\n",
    "\n",
    "I_S1, I_S2"
   ]
  },
  {
   "cell_type": "code",
   "execution_count": null,
   "metadata": {},
   "outputs": [],
   "source": [
    "I_C1 = beta * I_B1\n",
    "\n",
    "V_B1 = V_Th1 - R_Th1 * I_B1\n",
    "V_C1 = V_CC - R_C1 * I_C1\n",
    "V_E1 = R_E1 * I_E1\n",
    "\n",
    "V_B1, V_C1, V_E1, I_B1, I_C1, I_E1\n"
   ]
  },
  {
   "cell_type": "code",
   "execution_count": null,
   "metadata": {},
   "outputs": [],
   "source": [
    "I_C2 = beta * I_B2\n",
    "\n",
    "V_B2 = V_Th2 - R_Th2 * I_B2\n",
    "V_C2 = V_CC - R_C2 * I_C2\n",
    "V_E2 = R_E2 * I_E2\n",
    "\n",
    "V_B2, V_C2, V_E2, I_B2, I_C2, I_E2"
   ]
  },
  {
   "cell_type": "code",
   "execution_count": null,
   "metadata": {},
   "outputs": [],
   "source": [
    "V_sat = V_GS - V_TN\n",
    "\n",
    "V_sat"
   ]
  }
 ],
 "metadata": {
  "kernelspec": {
   "display_name": "Python 3",
   "language": "python",
   "name": "python3"
  },
  "language_info": {
   "codemirror_mode": {
    "name": "ipython",
    "version": 3
   },
   "file_extension": ".py",
   "mimetype": "text/x-python",
   "name": "python",
   "nbconvert_exporter": "python",
   "pygments_lexer": "ipython3",
   "version": "3.11.3"
  },
  "orig_nbformat": 4
 },
 "nbformat": 4,
 "nbformat_minor": 2
}
